{
 "cells": [
  {
   "cell_type": "code",
   "execution_count": 1,
   "metadata": {},
   "outputs": [],
   "source": [
    "import numpy as np\n",
    "from math import *"
   ]
  },
  {
   "cell_type": "code",
   "execution_count": 2,
   "metadata": {},
   "outputs": [],
   "source": [
    "import gaft"
   ]
  },
  {
   "cell_type": "code",
   "execution_count": 3,
   "metadata": {},
   "outputs": [
    {
     "data": {
      "text/plain": [
       "'\\nf(x) = y*sin(2*pi*x) + x*cos(2*pi*y)\\n'"
      ]
     },
     "execution_count": 3,
     "metadata": {},
     "output_type": "execute_result"
    }
   ],
   "source": [
    "\"\"\"\n",
    "f(x) = y*sin(2*pi*x) + x*cos(2*pi*y)\n",
    "\"\"\""
   ]
  },
  {
   "cell_type": "code",
   "execution_count": 4,
   "metadata": {},
   "outputs": [],
   "source": [
    "from gaft import GAEngine\n",
    "from gaft.components import BinaryIndividual\n",
    "from gaft.components import Population\n",
    "from gaft.operators import TournamentSelection\n",
    "from gaft.operators import UniformCrossover\n",
    "from gaft.operators import FlipBitBigMutation\n",
    "\n",
    "# Built-in best fitness analysis.\n",
    "from gaft.analysis.fitness_store import FitnessStore\n",
    "from gaft.analysis.console_output import ConsoleOutput"
   ]
  },
  {
   "cell_type": "code",
   "execution_count": 11,
   "metadata": {},
   "outputs": [],
   "source": [
    "indv_template = BinaryIndividual(ranges=[(-2, 2), (-2, 2)], eps=0.001)\n",
    "population = Population(indv_template=indv_template, size=50).init()"
   ]
  },
  {
   "cell_type": "code",
   "execution_count": 12,
   "metadata": {},
   "outputs": [],
   "source": [
    "selection = TournamentSelection()\n",
    "crossover = UniformCrossover(pc=0.8, pe=0.5)\n",
    "mutation = FlipBitBigMutation(pm=0.1, pbm=0.55, alpha=0.6)"
   ]
  },
  {
   "cell_type": "code",
   "execution_count": 13,
   "metadata": {},
   "outputs": [],
   "source": [
    "engine = GAEngine(population=population, selection=selection,\n",
    "                  crossover=crossover, mutation=mutation,\n",
    "                  analysis=[ConsoleOutput, FitnessStore])"
   ]
  },
  {
   "cell_type": "code",
   "execution_count": 14,
   "metadata": {},
   "outputs": [],
   "source": [
    "@engine.fitness_register\n",
    "def fitness(indv):\n",
    "    x, y = indv.solution\n",
    "    return y*sin(2*pi*x) + x*cos(2*pi*y)"
   ]
  },
  {
   "cell_type": "code",
   "execution_count": 15,
   "metadata": {},
   "outputs": [
    {
     "name": "stdout",
     "output_type": "stream",
     "text": [
      "gaft.ConsoleOutput   INFO     Generation number: 100 Population number: 50\n",
      "gaft.ConsoleOutput   INFO     Generation: 1, best fitness: 2.711, scaled fitness: 2.711\n",
      "gaft.ConsoleOutput   INFO     Generation: 2, best fitness: 2.711, scaled fitness: 2.711\n",
      "gaft.ConsoleOutput   INFO     Generation: 3, best fitness: 2.711, scaled fitness: 2.711\n",
      "gaft.ConsoleOutput   INFO     Generation: 4, best fitness: 2.711, scaled fitness: 2.711\n",
      "gaft.ConsoleOutput   INFO     Generation: 5, best fitness: 2.964, scaled fitness: 2.964\n",
      "gaft.ConsoleOutput   INFO     Generation: 6, best fitness: 2.964, scaled fitness: 2.964\n",
      "gaft.ConsoleOutput   INFO     Generation: 7, best fitness: 3.005, scaled fitness: 3.005\n",
      "gaft.ConsoleOutput   INFO     Generation: 8, best fitness: 3.646, scaled fitness: 3.646\n",
      "gaft.ConsoleOutput   INFO     Generation: 9, best fitness: 3.646, scaled fitness: 3.646\n",
      "gaft.ConsoleOutput   INFO     Generation: 10, best fitness: 3.646, scaled fitness: 3.646\n",
      "gaft.ConsoleOutput   INFO     Generation: 11, best fitness: 3.646, scaled fitness: 3.646\n",
      "gaft.ConsoleOutput   INFO     Generation: 12, best fitness: 3.646, scaled fitness: 3.646\n",
      "gaft.ConsoleOutput   INFO     Generation: 13, best fitness: 3.646, scaled fitness: 3.646\n",
      "gaft.ConsoleOutput   INFO     Generation: 14, best fitness: 3.646, scaled fitness: 3.646\n",
      "gaft.ConsoleOutput   INFO     Generation: 15, best fitness: 3.646, scaled fitness: 3.646\n",
      "gaft.ConsoleOutput   INFO     Generation: 16, best fitness: 3.646, scaled fitness: 3.646\n",
      "gaft.ConsoleOutput   INFO     Generation: 17, best fitness: 3.646, scaled fitness: 3.646\n",
      "gaft.ConsoleOutput   INFO     Generation: 18, best fitness: 3.687, scaled fitness: 3.687\n",
      "gaft.ConsoleOutput   INFO     Generation: 19, best fitness: 3.687, scaled fitness: 3.687\n",
      "gaft.ConsoleOutput   INFO     Generation: 20, best fitness: 3.687, scaled fitness: 3.687\n",
      "gaft.ConsoleOutput   INFO     Generation: 21, best fitness: 3.711, scaled fitness: 3.711\n",
      "gaft.ConsoleOutput   INFO     Generation: 22, best fitness: 3.752, scaled fitness: 3.752\n",
      "gaft.ConsoleOutput   INFO     Generation: 23, best fitness: 3.752, scaled fitness: 3.752\n",
      "gaft.ConsoleOutput   INFO     Generation: 24, best fitness: 3.752, scaled fitness: 3.752\n",
      "gaft.ConsoleOutput   INFO     Generation: 25, best fitness: 3.752, scaled fitness: 3.752\n",
      "gaft.ConsoleOutput   INFO     Generation: 26, best fitness: 3.752, scaled fitness: 3.752\n",
      "gaft.ConsoleOutput   INFO     Generation: 27, best fitness: 3.752, scaled fitness: 3.752\n",
      "gaft.ConsoleOutput   INFO     Generation: 28, best fitness: 3.756, scaled fitness: 3.756\n",
      "gaft.ConsoleOutput   INFO     Generation: 29, best fitness: 3.756, scaled fitness: 3.756\n",
      "gaft.ConsoleOutput   INFO     Generation: 30, best fitness: 3.756, scaled fitness: 3.756\n",
      "gaft.ConsoleOutput   INFO     Generation: 31, best fitness: 3.756, scaled fitness: 3.756\n",
      "gaft.ConsoleOutput   INFO     Generation: 32, best fitness: 3.756, scaled fitness: 3.756\n",
      "gaft.ConsoleOutput   INFO     Generation: 33, best fitness: 3.756, scaled fitness: 3.756\n",
      "gaft.ConsoleOutput   INFO     Generation: 34, best fitness: 3.756, scaled fitness: 3.756\n",
      "gaft.ConsoleOutput   INFO     Generation: 35, best fitness: 3.756, scaled fitness: 3.756\n",
      "gaft.ConsoleOutput   INFO     Generation: 36, best fitness: 3.756, scaled fitness: 3.756\n",
      "gaft.ConsoleOutput   INFO     Generation: 37, best fitness: 3.756, scaled fitness: 3.756\n",
      "gaft.ConsoleOutput   INFO     Generation: 38, best fitness: 3.756, scaled fitness: 3.756\n",
      "gaft.ConsoleOutput   INFO     Generation: 39, best fitness: 3.756, scaled fitness: 3.756\n",
      "gaft.ConsoleOutput   INFO     Generation: 40, best fitness: 3.756, scaled fitness: 3.756\n",
      "gaft.ConsoleOutput   INFO     Generation: 41, best fitness: 3.756, scaled fitness: 3.756\n",
      "gaft.ConsoleOutput   INFO     Generation: 42, best fitness: 3.756, scaled fitness: 3.756\n",
      "gaft.ConsoleOutput   INFO     Generation: 43, best fitness: 3.756, scaled fitness: 3.756\n",
      "gaft.ConsoleOutput   INFO     Generation: 44, best fitness: 3.756, scaled fitness: 3.756\n",
      "gaft.ConsoleOutput   INFO     Generation: 45, best fitness: 3.756, scaled fitness: 3.756\n",
      "gaft.ConsoleOutput   INFO     Generation: 46, best fitness: 3.756, scaled fitness: 3.756\n",
      "gaft.ConsoleOutput   INFO     Generation: 47, best fitness: 3.756, scaled fitness: 3.756\n",
      "gaft.ConsoleOutput   INFO     Generation: 48, best fitness: 3.756, scaled fitness: 3.756\n",
      "gaft.ConsoleOutput   INFO     Generation: 49, best fitness: 3.756, scaled fitness: 3.756\n",
      "gaft.ConsoleOutput   INFO     Generation: 50, best fitness: 3.756, scaled fitness: 3.756\n",
      "gaft.ConsoleOutput   INFO     Generation: 51, best fitness: 3.756, scaled fitness: 3.756\n",
      "gaft.ConsoleOutput   INFO     Generation: 52, best fitness: 3.756, scaled fitness: 3.756\n",
      "gaft.ConsoleOutput   INFO     Generation: 53, best fitness: 3.756, scaled fitness: 3.756\n",
      "gaft.ConsoleOutput   INFO     Generation: 54, best fitness: 3.756, scaled fitness: 3.756\n",
      "gaft.ConsoleOutput   INFO     Generation: 55, best fitness: 3.756, scaled fitness: 3.756\n",
      "gaft.ConsoleOutput   INFO     Generation: 56, best fitness: 3.756, scaled fitness: 3.756\n",
      "gaft.ConsoleOutput   INFO     Generation: 57, best fitness: 3.756, scaled fitness: 3.756\n",
      "gaft.ConsoleOutput   INFO     Generation: 58, best fitness: 3.756, scaled fitness: 3.756\n",
      "gaft.ConsoleOutput   INFO     Generation: 59, best fitness: 3.756, scaled fitness: 3.756\n",
      "gaft.ConsoleOutput   INFO     Generation: 60, best fitness: 3.756, scaled fitness: 3.756\n",
      "gaft.ConsoleOutput   INFO     Generation: 61, best fitness: 3.756, scaled fitness: 3.756\n",
      "gaft.ConsoleOutput   INFO     Generation: 62, best fitness: 3.756, scaled fitness: 3.756\n",
      "gaft.ConsoleOutput   INFO     Generation: 63, best fitness: 3.756, scaled fitness: 3.756\n",
      "gaft.ConsoleOutput   INFO     Generation: 64, best fitness: 3.756, scaled fitness: 3.756\n",
      "gaft.ConsoleOutput   INFO     Generation: 65, best fitness: 3.756, scaled fitness: 3.756\n",
      "gaft.ConsoleOutput   INFO     Generation: 66, best fitness: 3.756, scaled fitness: 3.756\n",
      "gaft.ConsoleOutput   INFO     Generation: 67, best fitness: 3.756, scaled fitness: 3.756\n",
      "gaft.ConsoleOutput   INFO     Generation: 68, best fitness: 3.756, scaled fitness: 3.756\n",
      "gaft.ConsoleOutput   INFO     Generation: 69, best fitness: 3.756, scaled fitness: 3.756\n",
      "gaft.ConsoleOutput   INFO     Generation: 70, best fitness: 3.756, scaled fitness: 3.756\n",
      "gaft.ConsoleOutput   INFO     Generation: 71, best fitness: 3.756, scaled fitness: 3.756\n",
      "gaft.ConsoleOutput   INFO     Generation: 72, best fitness: 3.756, scaled fitness: 3.756\n",
      "gaft.ConsoleOutput   INFO     Generation: 73, best fitness: 3.756, scaled fitness: 3.756\n",
      "gaft.ConsoleOutput   INFO     Generation: 74, best fitness: 3.756, scaled fitness: 3.756\n",
      "gaft.ConsoleOutput   INFO     Generation: 75, best fitness: 3.756, scaled fitness: 3.756\n",
      "gaft.ConsoleOutput   INFO     Generation: 76, best fitness: 3.756, scaled fitness: 3.756\n",
      "gaft.ConsoleOutput   INFO     Generation: 77, best fitness: 3.756, scaled fitness: 3.756\n",
      "gaft.ConsoleOutput   INFO     Generation: 78, best fitness: 3.756, scaled fitness: 3.756\n",
      "gaft.ConsoleOutput   INFO     Generation: 79, best fitness: 3.756, scaled fitness: 3.756\n",
      "gaft.ConsoleOutput   INFO     Generation: 80, best fitness: 3.756, scaled fitness: 3.756\n",
      "gaft.ConsoleOutput   INFO     Generation: 81, best fitness: 3.756, scaled fitness: 3.756\n",
      "gaft.ConsoleOutput   INFO     Generation: 82, best fitness: 3.756, scaled fitness: 3.756\n",
      "gaft.ConsoleOutput   INFO     Generation: 83, best fitness: 3.756, scaled fitness: 3.756\n",
      "gaft.ConsoleOutput   INFO     Generation: 84, best fitness: 3.756, scaled fitness: 3.756\n",
      "gaft.ConsoleOutput   INFO     Generation: 85, best fitness: 3.756, scaled fitness: 3.756\n",
      "gaft.ConsoleOutput   INFO     Generation: 86, best fitness: 3.756, scaled fitness: 3.756\n",
      "gaft.ConsoleOutput   INFO     Generation: 87, best fitness: 3.756, scaled fitness: 3.756\n",
      "gaft.ConsoleOutput   INFO     Generation: 88, best fitness: 3.756, scaled fitness: 3.756\n",
      "gaft.ConsoleOutput   INFO     Generation: 89, best fitness: 3.756, scaled fitness: 3.756\n",
      "gaft.ConsoleOutput   INFO     Generation: 90, best fitness: 3.756, scaled fitness: 3.756\n",
      "gaft.ConsoleOutput   INFO     Generation: 91, best fitness: 3.756, scaled fitness: 3.756\n",
      "gaft.ConsoleOutput   INFO     Generation: 92, best fitness: 3.756, scaled fitness: 3.756\n"
     ]
    },
    {
     "name": "stdout",
     "output_type": "stream",
     "text": [
      "gaft.ConsoleOutput   INFO     Generation: 93, best fitness: 3.756, scaled fitness: 3.756\n",
      "gaft.ConsoleOutput   INFO     Generation: 94, best fitness: 3.756, scaled fitness: 3.756\n",
      "gaft.ConsoleOutput   INFO     Generation: 95, best fitness: 3.756, scaled fitness: 3.756\n",
      "gaft.ConsoleOutput   INFO     Generation: 96, best fitness: 3.756, scaled fitness: 3.756\n",
      "gaft.ConsoleOutput   INFO     Generation: 97, best fitness: 3.756, scaled fitness: 3.756\n",
      "gaft.ConsoleOutput   INFO     Generation: 98, best fitness: 3.756, scaled fitness: 3.756\n",
      "gaft.ConsoleOutput   INFO     Generation: 99, best fitness: 3.756, scaled fitness: 3.756\n",
      "gaft.ConsoleOutput   INFO     Generation: 100, best fitness: 3.756, scaled fitness: 3.756\n",
      "gaft.ConsoleOutput   INFO     Optimal solution: ([1.76171875, -2.0], 3.7562996633573804)\n",
      "gaft.FitnessStore   INFO     Best fitness values are written to best_fit.py\n"
     ]
    }
   ],
   "source": [
    "if '__main__' == __name__:\n",
    "    engine.run(ng=100)"
   ]
  },
  {
   "cell_type": "code",
   "execution_count": null,
   "metadata": {},
   "outputs": [],
   "source": []
  }
 ],
 "metadata": {
  "kernelspec": {
   "display_name": "Python 3",
   "language": "python",
   "name": "python3"
  },
  "language_info": {
   "codemirror_mode": {
    "name": "ipython",
    "version": 3
   },
   "file_extension": ".py",
   "mimetype": "text/x-python",
   "name": "python",
   "nbconvert_exporter": "python",
   "pygments_lexer": "ipython3",
   "version": "3.6.7"
  }
 },
 "nbformat": 4,
 "nbformat_minor": 2
}
